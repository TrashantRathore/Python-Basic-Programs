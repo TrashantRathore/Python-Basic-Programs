{
 "cells": [
  {
   "cell_type": "markdown",
   "metadata": {},
   "source": [
    "Some Points regarding these Level 1 Programs\n",
    "1. In some code, Error Handling is done and some are left without it.\n",
    "2. Some references have been given to queries where some help was needed.\n",
    "3. In some code the variable names used are a bit different but the functionality of every program/function is 100% working.\n",
    "4. Output of every code is printed below each cell block."
   ]
  },
  {
   "cell_type": "markdown",
   "metadata": {},
   "source": [
    "## 1. Write a function that inputs a number and prints the multiplication table of that number."
   ]
  },
  {
   "cell_type": "code",
   "execution_count": 1,
   "metadata": {},
   "outputs": [
    {
     "name": "stdout",
     "output_type": "stream",
     "text": [
      "Enter any number for getting table: 12\n",
      "Multiplication table of 12 is [12, 24, 36, 48, 60, 72, 84, 96, 108, 120]\n"
     ]
    }
   ],
   "source": [
    "#Defining a Function and written the logic inside for multiplication\n",
    "def multi_num(n):\n",
    "    \n",
    "    lst = []\n",
    "    \n",
    "    for i in range(1,11):\n",
    "        num = n * i\n",
    "        lst.append(num)\n",
    "    return lst\n",
    "\n",
    "n = int(input(\"Enter any number for getting table: \")) \n",
    "print(\"Multiplication table of {0} is {1}\".format(n,multi_num(n)))      "
   ]
  },
  {
   "cell_type": "markdown",
   "metadata": {},
   "source": [
    "## 2. Write a program to print twin primes less than 1000. If two consecutive odd numbers are both prime they are known as twin primes."
   ]
  },
  {
   "cell_type": "code",
   "execution_count": 2,
   "metadata": {
    "scrolled": true
   },
   "outputs": [
    {
     "name": "stdout",
     "output_type": "stream",
     "text": [
      "ENter the start range: 23\n",
      "Enter the end range: 897\n",
      "\n",
      "\n",
      "29 and 31 are twin primes\n",
      "41 and 43 are twin primes\n",
      "59 and 61 are twin primes\n",
      "71 and 73 are twin primes\n",
      "101 and 103 are twin primes\n",
      "107 and 109 are twin primes\n",
      "137 and 139 are twin primes\n",
      "149 and 151 are twin primes\n",
      "179 and 181 are twin primes\n",
      "191 and 193 are twin primes\n",
      "197 and 199 are twin primes\n",
      "227 and 229 are twin primes\n",
      "239 and 241 are twin primes\n",
      "269 and 271 are twin primes\n",
      "281 and 283 are twin primes\n",
      "311 and 313 are twin primes\n",
      "347 and 349 are twin primes\n",
      "419 and 421 are twin primes\n",
      "431 and 433 are twin primes\n",
      "461 and 463 are twin primes\n",
      "521 and 523 are twin primes\n",
      "569 and 571 are twin primes\n",
      "599 and 601 are twin primes\n",
      "617 and 619 are twin primes\n",
      "641 and 643 are twin primes\n",
      "659 and 661 are twin primes\n",
      "809 and 811 are twin primes\n",
      "821 and 823 are twin primes\n",
      "827 and 829 are twin primes\n",
      "857 and 859 are twin primes\n",
      "881 and 883 are twin primes\n"
     ]
    }
   ],
   "source": [
    "def prime_check(n1):\n",
    "    prime = True\n",
    "    for i in range(2,n1):\n",
    "        if n1 % i == 0:\n",
    "            prime = False\n",
    "    return prime\n",
    "\n",
    "def twins(start, end):\n",
    "    for u in range(start,end):\n",
    "        j = u + 2\n",
    "        if (prime_check(j) == True) and (prime_check(u) == True):\n",
    "            print(\"{0} and {1} are twin primes\".format(u,j))        \n",
    "\n",
    "start = int(input(\"ENter the start range: \"))\n",
    "end = int(input(\"Enter the end range: \"))\n",
    "print(\"\\n\")\n",
    "twins(start,end)"
   ]
  },
  {
   "cell_type": "markdown",
   "metadata": {},
   "source": [
    "## 3. Write a program to find out prime factors of a number, Example: prime factors of 56 - 2,2,2,7"
   ]
  },
  {
   "cell_type": "code",
   "execution_count": 5,
   "metadata": {},
   "outputs": [
    {
     "name": "stdout",
     "output_type": "stream",
     "text": [
      "Enter the Number for calculating Prime Factors: 56\n",
      "Prime factors of 56 are [2, 2, 2, 7]\n"
     ]
    }
   ],
   "source": [
    "# Took a different approach in while condition\n",
    "def prime_fctor(n):\n",
    "    i = 2\n",
    "    fctor = []\n",
    "    while i * i <= n:\n",
    "        if n % i:\n",
    "            i += 1\n",
    "        else:\n",
    "            n //= i\n",
    "            fctor.append(i)\n",
    "    if n > 1:\n",
    "        fctor.append(n)\n",
    "    return fctor\n",
    "\n",
    "n = int(input(\"Enter the Number for calculating Prime Factors: \"))\n",
    "\n",
    "print(\"Prime factors of {0} are {1}\".format(n,prime_fctor(n)))"
   ]
  },
  {
   "cell_type": "markdown",
   "metadata": {},
   "source": [
    "## 4. Write a program to implement these formulae of permutations and combinations. Number of permutations of n objects taken r at a time : p(n,r) = n!/(n-r)!. Number of combinations of n objects taken r at a time is: c(n,r) = n!/(r!*(n-r)!) = p(n,r)/r!"
   ]
  },
  {
   "cell_type": "code",
   "execution_count": 6,
   "metadata": {},
   "outputs": [
    {
     "name": "stdout",
     "output_type": "stream",
     "text": [
      "Enter total number of Observations: 34\n",
      "Enter no. of ways: 6\n",
      "Permuatation is  968330880\n",
      "Combination is 1344904\n"
     ]
    }
   ],
   "source": [
    "def factorial(num22):\n",
    "    \n",
    "    if num22 == 0 or num22 == 1:\n",
    "        return num22\n",
    "    else:\n",
    "        return num22 * factorial(num22 - 1)\n",
    "    \n",
    "def permutations(n,r):\n",
    "    \n",
    "    return int(factorial(n)/factorial(n-r))\n",
    "\n",
    "def combinations(n,r):\n",
    "    \n",
    "    return int(factorial(n)/(factorial(r)*factorial(n-r)))\n",
    "\n",
    "\n",
    "n = int(input(\"Enter total number of Observations: \"))\n",
    "r = int(input(\"Enter no. of ways: \"))\n",
    "print(\"Permuatation is \",permutations(n,r))\n",
    "print(\"Combination is {}\".format(combinations(n,r)))\n",
    "    "
   ]
  },
  {
   "cell_type": "markdown",
   "metadata": {},
   "source": [
    "## 5. Write a function that converts a decimal number to binary number."
   ]
  },
  {
   "cell_type": "code",
   "execution_count": 7,
   "metadata": {},
   "outputs": [
    {
     "name": "stdout",
     "output_type": "stream",
     "text": [
      "Enter the decimal number: 47\n",
      "The Decimal to Binary conversion of the entered number is  101111\n"
     ]
    }
   ],
   "source": [
    "#https://blog.finxter.com/how-to-convert-an-integer-list-to-a-string-list-in-python/\n",
    "def dectobin(mydec):\n",
    "    \n",
    "    if mydec < 1:\n",
    "        print(\"Incorrect Number entered! Please re-enter\")\n",
    "    newlst = []\n",
    "    if mydec >= 1:\n",
    "        tempb = mydec\n",
    "        while tempb > 0:\n",
    "            q = int(tempb % 2)\n",
    "            w = tempb // 2\n",
    "            newlst.append(q)\n",
    "            tempb = w\n",
    "        \n",
    "        latlst = list(map(str, newlst))\n",
    "        rev = \"\".join(latlst)\n",
    "        return rev[::-1]\n",
    "        \n",
    "mydec = float(input(\"Enter the decimal number: \"))\n",
    "print(\"The Decimal to Binary conversion of the entered number is \",dectobin(mydec))"
   ]
  },
  {
   "cell_type": "markdown",
   "metadata": {},
   "source": [
    "## 6. Write a function cubesum() that accepts an integer and returns the sum of the cubes of individual digits of that number. Use this function to make functions PrintArmstrong() and isArmstrong() to print Armstrong numbers and to find whether is an Armstrong number."
   ]
  },
  {
   "cell_type": "code",
   "execution_count": 10,
   "metadata": {},
   "outputs": [
    {
     "name": "stdout",
     "output_type": "stream",
     "text": [
      "Enter the start range: 23\n",
      "Enter the end range: 890\n",
      "Armstrong number in range are:  [153, 370, 371, 407] \n",
      "\n",
      "Is this number Armstrong Number? 371\n",
      "True\n"
     ]
    }
   ],
   "source": [
    "# Used Error Handling in this program\n",
    "# Made three functions cubesum() , isArmstrong() and PrintArmstrong() and used each one inside as other argument\n",
    "# https://docs.python.org/3/tutorial/errors.html - Reference\n",
    "import sys\n",
    "def cubesum(num5):\n",
    "    \n",
    "    try:\n",
    "        \n",
    "        num9 = str(num5)\n",
    "        \n",
    "        cub = 0\n",
    "        \n",
    "        for y in num9:\n",
    "            cub = cub + (int(y)**3)\n",
    "            \n",
    "        return cub\n",
    "        \n",
    "    \n",
    "    except OSError as err:\n",
    "        print(\"OS error: {0}\".format(err))\n",
    "    except ValueError:\n",
    "        print(\"Could not convert data to an integer. Please re-enter\")\n",
    "    except:\n",
    "        print(\"Unexpected error:\", sys.exc_info()[0])\n",
    "        raise\n",
    "     \n",
    "    \n",
    "def PrintArmstrong(start7,end7):\n",
    "    nji = []\n",
    "    for rat in range(start7,end7):\n",
    "        if rat == cubesum(rat):\n",
    "            nji.append(rat)\n",
    "    return nji\n",
    "\n",
    "\n",
    "            \n",
    "def isArmstrong(num7):\n",
    "    \n",
    "    if cubesum(num7) == num7:\n",
    "        return True\n",
    "    else:\n",
    "        return False\n",
    "        \n",
    "        \n",
    "start7 = int(input(\"Enter the start range: \"))\n",
    "end7 = int(input(\"Enter the end range: \"))\n",
    "\n",
    "print(\"Armstrong number in range are: \", PrintArmstrong(start7,end7),\"\\n\")\n",
    "\n",
    "num7 = int(input(\"Is this number Armstrong Number? \"))\n",
    "print(isArmstrong(num7))\n"
   ]
  },
  {
   "cell_type": "markdown",
   "metadata": {},
   "source": [
    "## 7. Write a function prodDigits() that inputs a number and returns the product of digits of that number."
   ]
  },
  {
   "cell_type": "code",
   "execution_count": 11,
   "metadata": {},
   "outputs": [
    {
     "name": "stdout",
     "output_type": "stream",
     "text": [
      "Enter the num: 35\n",
      "Product of Digits of number is  15\n"
     ]
    }
   ],
   "source": [
    "#Error Handling is done in this code\n",
    "\n",
    "import sys\n",
    "def prodDigits(num2):\n",
    "    \n",
    "    try:\n",
    "        num41 = str(num2)\n",
    "        \n",
    "        prod = 1\n",
    "        \n",
    "        for im in num41:\n",
    "            prod = prod * int(im)\n",
    "            \n",
    "        return prod\n",
    "        \n",
    "    except OSError as err:\n",
    "        print(\"OS error: {0}\".format(err))\n",
    "    except ValueError:\n",
    "        print(\"Could not convert data to an integer.\")\n",
    "    except:\n",
    "        print(\"Unexpected error:\", sys.exc_info()[0])\n",
    "        raise\n",
    "\n",
    "num2 = int(input(\"Enter the num: \"))\n",
    "print(\"Product of Digits of number is \",prodDigits(num2))"
   ]
  },
  {
   "cell_type": "markdown",
   "metadata": {},
   "source": [
    "## 8. If all digits of a number n are multiplied by each other repeating with the product, the one digit number obtained at last is called the multiplicative digital root of n. The number of times digits need to be multiplied to reach one digit is called the multiplicative persistance of n. \n",
    "\n",
    "Example: 86->48->32->6(MDR 6 , MPersistance 3)\n",
    "        341->12->2    (MDR 2 , MPersistance 2)\n",
    "\n",
    "Using the function prodDigits() of previous exercise write functions MDR() and MPersistance() that inputs a number and returns its multiplicative digital root and multiplicative persistance respectively."
   ]
  },
  {
   "cell_type": "code",
   "execution_count": 12,
   "metadata": {},
   "outputs": [
    {
     "name": "stdout",
     "output_type": "stream",
     "text": [
      "Enter the num: 4\n",
      "MDR and MPersistance of 4 is (4, 0) respectively\n"
     ]
    }
   ],
   "source": [
    "def MDR(num77):\n",
    "    \n",
    "    temp = str(num77)\n",
    "    pert = 0\n",
    "    while len(temp) > 1:\n",
    "        \n",
    "        temp = str(prodDigits(int(temp)))\n",
    "        pert += 1\n",
    "        \n",
    "    return int(temp), MPersistance(pert)\n",
    " \n",
    "def MPersistance(pert):\n",
    "    \n",
    "    return pert\n",
    "                   \n",
    "\n",
    "    \n",
    "num77 = int(input(\"Enter the num: \"))\n",
    "print(\"MDR and MPersistance of {0} is {1}\".format(num77,MDR(num77)),\"respectively\")"
   ]
  },
  {
   "cell_type": "markdown",
   "metadata": {},
   "source": [
    "## 9. Write a function sumPdivisors() that finds the sum of proper divisors of a number. Proper divisors of a number are those number by which the number is divisible, except the number itself. For example proper divisors of 36 are 1,2,3,4,6,9,12,18."
   ]
  },
  {
   "cell_type": "code",
   "execution_count": 13,
   "metadata": {},
   "outputs": [
    {
     "name": "stdout",
     "output_type": "stream",
     "text": [
      "Enter any number for getting divisors: 678\n",
      "Sum of Divisors is 690\n"
     ]
    }
   ],
   "source": [
    "def sumPdivisors(divnum):\n",
    "    \n",
    "    if divnum < 0:\n",
    "        print(\"Incorrect word selection\")\n",
    "    \n",
    "    else:\n",
    "        sig = []\n",
    "        for d in range(1,divnum):\n",
    "            if divnum % d == 0:\n",
    "                sig.append(d)\n",
    "                continue\n",
    "        return sum(sig)\n",
    "    \n",
    "divnum = int(input(\"Enter any number for getting divisors: \"))\n",
    "print(\"Sum of Divisors is\",sumPdivisors(divnum))"
   ]
  },
  {
   "cell_type": "markdown",
   "metadata": {},
   "source": [
    "## 10. A number is called perfect if the sum of the proper divisors of that number is equal to the number. For example 28 is perfect number,since 1+2+4+7+14 = 28. Write a program to print all the perfect numbers in a given range."
   ]
  },
  {
   "cell_type": "code",
   "execution_count": 14,
   "metadata": {},
   "outputs": [
    {
     "name": "stdout",
     "output_type": "stream",
     "text": [
      "Enter the start range: 3\n",
      "Enter the end range: 78\n",
      "\n",
      "\n",
      "6 is a perfect number\n",
      "28 is a perfect number\n"
     ]
    }
   ],
   "source": [
    "def perfect_num(start1,end1):\n",
    "    if start1 < 0 or end1 <= 0:\n",
    "        print(\"Incorrect data entered! Please renter the start and end range\")\n",
    "    else:\n",
    "        for vj in range(start1,end1):\n",
    "            if sumPdivisors(vj) == vj:\n",
    "                print(\"{0} is a perfect number\".format(vj))\n",
    "            \n",
    "start1 = int(input(\"Enter the start range: \"))\n",
    "end1 = int(input(\"Enter the end range: \"))\n",
    "print(\"\\n\")\n",
    "perfect_num(start1,end1)"
   ]
  },
  {
   "cell_type": "markdown",
   "metadata": {},
   "source": [
    "## 11. Two different numbers are called amicable numbers if the sum of the proper divisors of each is equal to the other number. For example 220 and 284 are amicable numbers. \n",
    " \n",
    " Sum of proper divisors of 220 = 1+2+4+5+10+11+20+22+44+55+110 = 284\n",
    " \n",
    " Sum of proper divisors of 284 = 1+2+4+71+142 = 220\n",
    " \n",
    " Write a function to print pairs of amicable numbers in a range."
   ]
  },
  {
   "cell_type": "code",
   "execution_count": 15,
   "metadata": {},
   "outputs": [
    {
     "name": "stdout",
     "output_type": "stream",
     "text": [
      "Enter the start range: 1\n",
      "Enter the end range: 67\n",
      "\n",
      "\n",
      "These 6 and 6 are Amicable numbers\n",
      "These 28 and 28 are Amicable numbers\n"
     ]
    }
   ],
   "source": [
    "def amicable(start2,end2):\n",
    "    if start2 < 0 or end2 <= 0:\n",
    "        print(\"Incorrect data entered! Please renter the start and end range\")\n",
    "    else:\n",
    "        for f in range(start2,end2):\n",
    "            p1 = sumPdivisors(f)\n",
    "            p2 = sumPdivisors(p1)\n",
    "            #print(rwt)\n",
    "            if f == p2:\n",
    "                print('These {0} and {1} are Amicable numbers'.format(f,p1))\n",
    "\n",
    "            \n",
    "start2 = int(input(\"Enter the start range: \"))\n",
    "end2 = int(input(\"Enter the end range: \")) \n",
    "print(\"\\n\")\n",
    "amicable(start2,end2)\n"
   ]
  },
  {
   "cell_type": "markdown",
   "metadata": {},
   "source": [
    "## 12. Write a program which can filter odd numbers in a list by using filter function"
   ]
  },
  {
   "cell_type": "code",
   "execution_count": 16,
   "metadata": {},
   "outputs": [
    {
     "name": "stdout",
     "output_type": "stream",
     "text": [
      "Odd Numbers are 7\n",
      "Odd Numbers are 9\n",
      "Odd Numbers are 567\n",
      "Odd Numbers are 1\n"
     ]
    }
   ],
   "source": [
    "def filterodd(lstall):\n",
    "    \n",
    "    lstodd = filter(lambda a: a%2 != 0, lstall )\n",
    "    for k in lstodd:\n",
    "        print(\"Odd Numbers are\",k)\n",
    "\n",
    "lstall = [2,7,346,9,567,12,872,1]\n",
    "filterodd(lstall)"
   ]
  },
  {
   "cell_type": "markdown",
   "metadata": {},
   "source": [
    "## 13. Write a program which can map() to make a list whose elements are cube of elements in a given list."
   ]
  },
  {
   "cell_type": "code",
   "execution_count": 17,
   "metadata": {},
   "outputs": [
    {
     "name": "stdout",
     "output_type": "stream",
     "text": [
      "The entered list is  [1, 3, 5, 6, 8, 9]\n",
      "The cubes of the given list is  [1, 27, 125, 216, 512, 729]\n"
     ]
    }
   ],
   "source": [
    "def mapcube(cubical):\n",
    "    \n",
    "    cub = []\n",
    "    cbue = map(lambda x : x**3,cubical)\n",
    "    for ui in cbue:\n",
    "        cub.append(ui)\n",
    "    print(\"The cubes of the given list is \",cub)\n",
    "    \n",
    "cubical = [1,3,5,6,8,9]\n",
    "print(\"The entered list is \",cubical)\n",
    "mapcube(cubical)"
   ]
  },
  {
   "cell_type": "markdown",
   "metadata": {},
   "source": [
    "## 14. Write a program which can map() and filter() to make a list whose elements are cube of even number in a given list."
   ]
  },
  {
   "cell_type": "code",
   "execution_count": 21,
   "metadata": {
    "scrolled": false
   },
   "outputs": [
    {
     "name": "stdout",
     "output_type": "stream",
     "text": [
      "Even numbers from the list are [8, 6, 2, 4]\n",
      "The cubes of the even number list is  [512, 216, 8, 64]\n"
     ]
    }
   ],
   "source": [
    "def evencube(fullst):\n",
    "    \n",
    "    evennew = []\n",
    "    evenlst = filter(lambda d : d % 2 == 0, fullst)\n",
    "    for nm in evenlst:\n",
    "        evennew.append(nm)\n",
    "        \n",
    "    print(\"Even numbers from the list are\", evennew)\n",
    "    \n",
    "    cubes_even = []\n",
    "    cubes = map(lambda y : y**3, evennew)\n",
    "    for kl in cubes:\n",
    "        cubes_even.append(kl)\n",
    "    print(\"The cubes of the even number list is \", cubes_even)\n",
    "    \n",
    "\n",
    "fullst = [5,8,1,6,3,9,2,7,4]\n",
    "evencube(fullst)"
   ]
  },
  {
   "cell_type": "code",
   "execution_count": null,
   "metadata": {},
   "outputs": [],
   "source": []
  }
 ],
 "metadata": {
  "kernelspec": {
   "display_name": "Python 3",
   "language": "python",
   "name": "python3"
  },
  "language_info": {
   "codemirror_mode": {
    "name": "ipython",
    "version": 3
   },
   "file_extension": ".py",
   "mimetype": "text/x-python",
   "name": "python",
   "nbconvert_exporter": "python",
   "pygments_lexer": "ipython3",
   "version": "3.6.5"
  }
 },
 "nbformat": 4,
 "nbformat_minor": 2
}
